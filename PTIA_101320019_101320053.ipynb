{
  "nbformat": 4,
  "nbformat_minor": 0,
  "metadata": {
    "colab": {
      "name": "PTIA.ipynb",
      "provenance": [],
      "collapsed_sections": []
    },
    "kernelspec": {
      "name": "python3",
      "display_name": "Python 3"
    },
    "language_info": {
      "name": "python"
    }
  },
  "cells": [
    {
      "cell_type": "markdown",
      "source": [
        "#Program Menghasilkan Kata Sandi Kuat\n",
        "---\n",
        "#Oleh: \n",
        "#1. Muhammad Rizky Farhat / 101320019\n",
        "#2. Muhammad Chairafy Hamid / 101320053"
      ],
      "metadata": {
        "id": "pcwgu7vbdASU"
      }
    },
    {
      "cell_type": "code",
      "source": [
        "import random as rd\n",
        "import array\n",
        "\n",
        "#Jumlah Karakter Maksimal Password  \n",
        "Panjang_Maksimal = 8\n",
        "\n",
        "#Jenis Karakter Maksimal Password  \n",
        "Simbol = ['@', '#', '$', '%', '=', ':', '?', '.', '/', '|', '~', '>', \n",
        "           '*', '(', ')', '<']\n",
        "\n",
        "Angka = ['0', '1', '2', '3', '4', '5', '6', '7', '8', '9']  \n",
        "\n",
        "Huruf_Kecil = ['a', 'b', 'c', 'd', 'e', 'f', 'g', 'h', \n",
        "                     'i', 'j', 'k', 'm', 'n', 'o', 'p', 'q',\n",
        "                     'r', 's', 't', 'u', 'v', 'w', 'x', 'y',\n",
        "                     'z']\n",
        "Huruf_Kapital = ['A', 'B', 'C', 'D', 'E', 'F', 'G', 'H', \n",
        "                     'I', 'J', 'K', 'M', 'N', 'O', 'p', 'Q',\n",
        "                     'R', 'S', 'T', 'U', 'V', 'W', 'X', 'Y',\n",
        "                     'Z']\n",
        "  \n",
        "# Kombinasi semua karakter array\n",
        "Daftar_Gabungan = Angka + Huruf_Kapital + Huruf_Kecil + Simbol\n",
        "  \n",
        "# memilih random dari masing-masing karakter\n",
        "rand_digit = rd.choice(Angka)\n",
        "rand_upper = rd.choice(Huruf_Kapital)\n",
        "rand_lower = rd.choice(Huruf_Kecil)\n",
        "rand_symbol = rd.choice(Simbol)\n",
        "  \n",
        "# Menyatukan semua pilihan diatas untuk menjadi password\n",
        "temp_pass = rand_digit + rand_upper + rand_lower + rand_symbol\n",
        "  \n",
        "\n",
        "for x in range(Panjang_Maksimal - 4):\n",
        "    temp_pass = temp_pass + rd.choice(Daftar_Gabungan)\n",
        "  \n",
        "    # mengkonversi password sementara menjadi array untuk menghindari pasword dapat mudah ditebak\n",
        "    temp_pass_list = array.array('u', temp_pass)\n",
        "    rd.shuffle(temp_pass_list)\n",
        "  \n",
        "password = ''\n",
        "for x in temp_pass_list:\n",
        "        password = password + x\n",
        "          \n",
        "# password berhasil menjadi 8 karakter\n",
        "print(password)"
      ],
      "metadata": {
        "colab": {
          "base_uri": "https://localhost:8080/"
        },
        "id": "plidEw-kXixT",
        "outputId": "2ff23e61-8f5c-4658-8f66-6fe3e2e8132a"
      },
      "execution_count": null,
      "outputs": [
        {
          "output_type": "stream",
          "name": "stdout",
          "text": [
            "4XRud=)u\n"
          ]
        }
      ]
    },
    {
      "cell_type": "code",
      "source": [
        ""
      ],
      "metadata": {
        "id": "DPBAt0XIb7gJ"
      },
      "execution_count": null,
      "outputs": []
    }
  ]
}